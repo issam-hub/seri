{
 "cells": [
  {
   "cell_type": "code",
   "execution_count": 1,
   "id": "fdf94900",
   "metadata": {},
   "outputs": [],
   "source": [
    "import pandas as pd\n",
    "import numpy as np"
   ]
  },
  {
   "cell_type": "code",
   "execution_count": 2,
   "id": "61073d17",
   "metadata": {},
   "outputs": [],
   "source": [
    "df = pd.read_table(\"my-dataset/collection.tsv\")\n",
    "queries = pd.read_table(\"my-dataset/test/queries.txt\")\n",
    "rels = pd.read_table(\"my-dataset/test/qrels\")"
   ]
  },
  {
   "cell_type": "code",
   "execution_count": 3,
   "id": "5be1e346",
   "metadata": {},
   "outputs": [],
   "source": [
    "queries"
   ]
  },
  {
   "cell_type": "code",
   "execution_count": 4,
   "id": "78c242fc",
   "metadata": {},
   "outputs": [],
   "source": [
    "rels"
   ]
  },
  {
   "cell_type": "code",
   "execution_count": 5,
   "id": "017c8b84",
   "metadata": {},
   "outputs": [],
   "source": [
    "from sklearn.feature_extraction.text import TfidfVectorizer"
   ]
  },
  {
   "cell_type": "code",
   "execution_count": 6,
   "id": "bae5b99d",
   "metadata": {},
   "outputs": [],
   "source": [
    "tfidf = TfidfVectorizer(stop_words='english', analyzer=\"word\")\n",
    "tfidf2 = TfidfVectorizer(stop_words='english', analyzer=\"word\")"
   ]
  },
  {
   "cell_type": "code",
   "execution_count": 7,
   "id": "31ce8662",
   "metadata": {},
   "outputs": [],
   "source": [
    "tfidf"
   ]
  },
  {
   "cell_type": "code",
   "execution_count": 8,
   "id": "45bc5772",
   "metadata": {},
   "outputs": [],
   "source": [
    "df['doc_text']"
   ]
  },
  {
   "cell_type": "code",
   "execution_count": 26,
   "id": "329cbcac",
   "metadata": {},
   "outputs": [],
   "source": [
    "tfidf_matrix = tfidf.fit_transform(df['doc_text'])"
   ]
  },
  {
   "cell_type": "code",
   "execution_count": 27,
   "id": "5f925c18",
   "metadata": {},
   "outputs": [],
   "source": [
    "tfidf_matrix"
   ]
  },
  {
   "cell_type": "code",
   "execution_count": 11,
   "id": "78c8d567",
   "metadata": {},
   "outputs": [],
   "source": [
    "np.matrix(tfidf_matrix)"
   ]
  },
  {
   "cell_type": "code",
   "execution_count": 12,
   "id": "1a1d35f1",
   "metadata": {},
   "outputs": [],
   "source": [
    "tfidfshow = pd.DataFrame(tfidf_matrix.toarray(), columns=tfidf.get_feature_names_out(), index=df[\"doc_id\"])"
   ]
  },
  {
   "cell_type": "code",
   "execution_count": 31,
   "id": "6b2d7fdb",
   "metadata": {},
   "outputs": [],
   "source": [
    "# c = tfidfshow.iloc(\"3265991_12\")\n",
    "pd.set_option(\"display.max_rows\", None)\n",
    "tfidfshow.loc[\"3265991_12\"]"
   ]
  },
  {
   "cell_type": "code",
   "execution_count": 14,
   "id": "5bcf1cb1",
   "metadata": {},
   "outputs": [],
   "source": [
    "my_query = [\"how can we get concentration onsomething?\"]\n",
    "query_tfidf_matrix = tfidf2.fit_transform(my_query)\n",
    "np.matrix(query_tfidf_matrix)\n",
    "query_tfidfshow = pd.DataFrame(query_tfidf_matrix.toarray(), columns=tfidf2.get_feature_names_out(my_query))\n",
    "query_tfidfshow"
   ]
  },
  {
   "cell_type": "code",
   "execution_count": 15,
   "id": "de1107e6",
   "metadata": {},
   "outputs": [],
   "source": [
    "doc_feature_names = list(tfidf.get_feature_names_out())\n",
    "query_feature_names = list(tfidf2.get_feature_names_out())\n",
    "doc_feature_names"
   ]
  },
  {
   "cell_type": "code",
   "execution_count": 16,
   "id": "27567e26",
   "metadata": {},
   "outputs": [],
   "source": [
    "arr = [0] * len(doc_feature_names)\n",
    "for query_word in query_feature_names:\n",
    "    if doc_feature_names.__contains__(query_word):\n",
    "        arr[doc_feature_names.index(query_word)]=query_tfidfshow[query_word][0]\n",
    "    # of course it can be 0 since it has no effect\n",
    "#     arr[query_feature_names.index(query_word)]=query_tfidfshow[query_word][0]\n",
    "#     arr[query_feature_names.index(query_word)]=0\n",
    "\n",
    "\n",
    "#arr[doc_feature_names.index(\"concentration\")] = query_tfidfshow[\"concentration\"][0]\n",
    "# arr[feature_names.index(\"onsomething\")] = 0.707107\n",
    "query_matrix = [arr]*len(df['doc_text'])\n",
    "query_matrix\n",
    "#doc_feature_names.index(\"onsomething\")\n",
    "#document: [\"potato\", \"sheep\", \"cow\", \"brother\", \"plate\", \"concentration\", \"kitchen\", \"saddam\", \"keyboard\", \"onsomething\"]\n",
    "#             [0, 1, 0.2, 0.2, 0.2, 0, 1, 0.3, 0.2, 0.2]\n",
    "#query:     [0, 0, 0, 1, 0.2, 0, 0.3, ...]"
   ]
  },
  {
   "cell_type": "code",
   "execution_count": 17,
   "id": "8ec8adbe",
   "metadata": {},
   "outputs": [],
   "source": [
    "from sklearn.metrics.pairwise import linear_kernel, cosine_similarity\n",
    "cos_sim = cosine_similarity(query_matrix, tfidf_matrix)"
   ]
  },
  {
   "cell_type": "code",
   "execution_count": 18,
   "id": "15fd3c1f",
   "metadata": {},
   "outputs": [],
   "source": [
    "cos_sim_show = pd.DataFrame(cos_sim, columns=df['doc_id'])"
   ]
  },
  {
   "cell_type": "code",
   "execution_count": 19,
   "id": "bf3f1aa0",
   "metadata": {},
   "outputs": [],
   "source": [
    "result = {df[\"doc_id\"][i]: cos_sim[0][i] for i in range (len(cos_sim[0]))}"
   ]
  },
  {
   "cell_type": "code",
   "execution_count": 20,
   "id": "8822bd8f",
   "metadata": {},
   "outputs": [],
   "source": [
    "sorted(result.items(), key=lambda e:e[1], reverse=True)"
   ]
  },
  {
   "cell_type": "code",
   "execution_count": 21,
   "id": "a8c7745e",
   "metadata": {},
   "outputs": [],
   "source": [
    "result"
   ]
  }
 ],
 "metadata": {
  "kernelspec": {
   "display_name": "Python 3 (ipykernel)",
   "language": "python",
   "name": "python3"
  },
  "language_info": {
   "codemirror_mode": {
    "name": "ipython",
    "version": 3
   },
   "file_extension": ".py",
   "mimetype": "text/x-python",
   "name": "python",
   "nbconvert_exporter": "python",
   "pygments_lexer": "ipython3",
   "version": "3.10.6"
  }
 },
 "nbformat": 4,
 "nbformat_minor": 5
}
